{
 "cells": [
  {
   "cell_type": "code",
   "execution_count": 27,
   "metadata": {},
   "outputs": [],
   "source": [
    "#BacDivePy\n",
    "from  bacdive.DSMZClient import DSMZ_login\n",
    "from  bacdive.DSMZClient import retrieve\n",
    "#from  bacdive.utils import pullopt\n",
    "\n",
    "#utils\n",
    "import itertools\n",
    "import pandas as pd\n",
    "import numpy as np\n",
    "\n",
    "#plot style\n",
    "import matplotlib.pyplot as plt\n",
    "import seaborn as sns\n",
    "plt.style.use('ggplot')\n",
    "\n",
    "#test style\n",
    "from IPython.core.display import HTML\n",
    "HTML(\"\"\"<style>div.cell { /* Tunes the space between cells */margin-top:1em;margin-bottom:1em;}div.text_cell_render h1 { /* Main titles bigger, centered */\n",
    "font-size: 3em;line-height:1.4em;text-align:center;}\n",
    "div.text_cell_render h2 { /*  Parts names nearer from text */margin-bottom: -0.4em;}\n",
    "div.text_cell_render { /* Customize text cells */font-family: 'Times New Roman';font-size:1.2em;line-height:1.4em;\n",
    "padding-left:3em;padding-right:3em;}</style>\"\"\")\n",
    "%matplotlib inline"
   ]
  },
  {
   "cell_type": "markdown",
   "metadata": {},
   "source": [
    "\n",
    "This python package is an interface for the [Bacterial\n",
    "Diversity Metadatabase][BD] ([Söhngen et al. 2014 & 2016\n",
    "](#references)) of the [DSMZ (German Collection of Microorganisms and Cell Cultures)][DMSZ].\n",
    "\n",
    "[BD]: https://bacdive.dsmz.de/\n",
    "[DMSZ]: https://www.dsmz.de/about-us.html\n"
   ]
  },
  {
   "cell_type": "markdown",
   "metadata": {},
   "source": [
    "### Set Login\n",
    "\n",
    "To login, you must be [registered][reg] for the BacDive API. Once you have your login credentials you may use them below. \n",
    "\n",
    "\n",
    "[reg]: https://bacdive.dsmz.de/api/bacdive/registration/register/"
   ]
  },
  {
   "cell_type": "code",
   "execution_count": 105,
   "metadata": {},
   "outputs": [],
   "source": [
    "DSMZ_login('username@email.com',password='friend')"
   ]
  },
  {
   "cell_type": "markdown",
   "metadata": {},
   "source": [
    "## There are four methods to search the BacDive Database"
   ]
  },
  {
   "cell_type": "markdown",
   "metadata": {},
   "source": [
    "### Species-Level Search"
   ]
  },
  {
   "cell_type": "code",
   "execution_count": 5,
   "metadata": {},
   "outputs": [
    {
     "name": "stdout",
     "output_type": "stream",
     "text": [
      "Retrieving information on: Meiothermus hypogaeus\n"
     ]
    },
    {
     "name": "stderr",
     "output_type": "stream",
     "text": [
      "100%|██████████| 1/1 [00:00<00:00,  1.05it/s]\n"
     ]
    },
    {
     "name": "stdout",
     "output_type": "stream",
     "text": [
      "Retrieving information on: Megasphaera elsdenii\n"
     ]
    },
    {
     "name": "stderr",
     "output_type": "stream",
     "text": [
      "100%|██████████| 1/1 [00:00<00:00,  1.16it/s]\n"
     ]
    }
   ],
   "source": [
    "species_search_data = retrieve(['Meiothermus hypogaeus',\n",
    "                                'Megasphaera elsdenii'],\n",
    "                               search_type='species')"
   ]
  },
  {
   "cell_type": "markdown",
   "metadata": {},
   "source": [
    "### Genus-Level Search"
   ]
  },
  {
   "cell_type": "code",
   "execution_count": 11,
   "metadata": {},
   "outputs": [
    {
     "name": "stdout",
     "output_type": "stream",
     "text": [
      "Retrieving information on: Meiothermus\n"
     ]
    },
    {
     "name": "stderr",
     "output_type": "stream",
     "text": [
      "100%|██████████| 18/18 [00:16<00:00,  1.10it/s]\n"
     ]
    },
    {
     "name": "stdout",
     "output_type": "stream",
     "text": [
      "Retrieving information on: Megasphaera\n"
     ]
    },
    {
     "name": "stderr",
     "output_type": "stream",
     "text": [
      "100%|██████████| 11/11 [00:09<00:00,  1.15it/s]\n"
     ]
    }
   ],
   "source": [
    "genus_search_data = retrieve(['Meiothermus',\n",
    "                              'Megasphaera'],\n",
    "                             search_type='genus')"
   ]
  },
  {
   "cell_type": "markdown",
   "metadata": {},
   "source": [
    "### DSMZ Culture Number Search"
   ]
  },
  {
   "cell_type": "code",
   "execution_count": 12,
   "metadata": {},
   "outputs": [
    {
     "name": "stdout",
     "output_type": "stream",
     "text": [
      "Retrieving information on: DSM 1\n"
     ]
    },
    {
     "name": "stderr",
     "output_type": "stream",
     "text": [
      "100%|██████████| 1/1 [00:02<00:00,  2.80s/it]\n"
     ]
    },
    {
     "name": "stdout",
     "output_type": "stream",
     "text": [
      "Retrieving information on: DSM 2\n"
     ]
    },
    {
     "name": "stderr",
     "output_type": "stream",
     "text": [
      "100%|██████████| 1/1 [00:00<00:00,  1.15it/s]\n"
     ]
    }
   ],
   "source": [
    "DSMZnum_search_data = retrieve(['DSM 1',\n",
    "                                'DSM 2'],\n",
    "                               search_type='culture no')"
   ]
  },
  {
   "cell_type": "markdown",
   "metadata": {},
   "source": [
    "### Sequence Accession Number Search"
   ]
  },
  {
   "cell_type": "code",
   "execution_count": 13,
   "metadata": {},
   "outputs": [
    {
     "name": "stdout",
     "output_type": "stream",
     "text": [
      "Retrieving information on: KT935587\n"
     ]
    },
    {
     "name": "stderr",
     "output_type": "stream",
     "text": [
      "100%|██████████| 1/1 [00:00<00:00,  1.11it/s]\n"
     ]
    },
    {
     "name": "stdout",
     "output_type": "stream",
     "text": [
      "Retrieving information on: ALAS01000001\n"
     ]
    },
    {
     "name": "stderr",
     "output_type": "stream",
     "text": [
      "100%|██████████| 1/1 [00:02<00:00,  2.52s/it]\n"
     ]
    }
   ],
   "source": [
    "Acc_search_data = retrieve(['KT935587',\n",
    "                            'ALAS01000001'],\n",
    "                            search_type='sequence accession number')"
   ]
  },
  {
   "cell_type": "markdown",
   "metadata": {},
   "source": [
    "## Data format\n",
    "\n",
    "All searches output a multilevel indexed pandas dataframe with the DSMZ culture IDs associated with the search in the columns. The levels of the index are the:\n",
    "\n",
    "Sections ( there are 8 sections ) \n",
    "- application_interaction\n",
    "- culture_growth_condition\n",
    "- environment_sampling_isolation_source\n",
    "- molecular_biology\n",
    "- morphology_physiology\n",
    "- references\n",
    "- strain_availability\n",
    "- taxonomy_name\n",
    "\n",
    "Within that subsection there are several subsections and within those subsections, there are various fields.\n",
    "\n",
    "To view the subsections:\n",
    "- set(df.index.get_level_values('Subsection'))\n",
    "\n",
    "To view the Fields:\n",
    "- set(df.index.get_level_values('Field'))\n",
    "\n",
    "If a certain field needs to be indexed it can be done by calling:\n",
    "\n",
    "- df.loc([Section_value,Subsection_value,Field_value])\n"
   ]
  },
  {
   "cell_type": "code",
   "execution_count": 14,
   "metadata": {},
   "outputs": [
    {
     "name": "stdout",
     "output_type": "stream",
     "text": [
      "Retrieving information on: Bacillus halodurans\n"
     ]
    },
    {
     "name": "stderr",
     "output_type": "stream",
     "text": [
      "100%|██████████| 20/20 [00:19<00:00,  1.03it/s]\n"
     ]
    },
    {
     "name": "stdout",
     "output_type": "stream",
     "text": [
      "Retrieving information on: Aneurinibacillus thermoaerophilus\n"
     ]
    },
    {
     "name": "stderr",
     "output_type": "stream",
     "text": [
      "100%|██████████| 16/16 [00:13<00:00,  1.16it/s]\n"
     ]
    }
   ],
   "source": [
    "species_search_data = retrieve(['Bacillus halodurans',\n",
    "                                'Aneurinibacillus thermoaerophilus'],\n",
    "                                 search_type='species')"
   ]
  },
  {
   "cell_type": "markdown",
   "metadata": {},
   "source": [
    "The values of the dataframe will be lists. This is because there can be multiple entries for many of the values. However, it is fairly trivial to subset and then flatten this data. For example, let's explore the recorded culture temperatures at the genus level from the data we retrieved above."
   ]
  },
  {
   "cell_type": "code",
   "execution_count": 103,
   "metadata": {},
   "outputs": [
    {
     "data": {
      "text/html": [
       "<div>\n",
       "<style scoped>\n",
       "    .dataframe tbody tr th:only-of-type {\n",
       "        vertical-align: middle;\n",
       "    }\n",
       "\n",
       "    .dataframe tbody tr th {\n",
       "        vertical-align: top;\n",
       "    }\n",
       "\n",
       "    .dataframe thead th {\n",
       "        text-align: right;\n",
       "    }\n",
       "</style>\n",
       "<table border=\"1\" class=\"dataframe\">\n",
       "  <thead>\n",
       "    <tr style=\"text-align: right;\">\n",
       "      <th></th>\n",
       "      <th>Species</th>\n",
       "      <th>Opt. Culture Temp. $C^{o}$</th>\n",
       "    </tr>\n",
       "  </thead>\n",
       "  <tbody>\n",
       "    <tr>\n",
       "      <td>DSMZ_1117</td>\n",
       "      <td>Bacillus halodurans</td>\n",
       "      <td>30</td>\n",
       "    </tr>\n",
       "    <tr>\n",
       "      <td>DSMZ_1114</td>\n",
       "      <td>Bacillus halodurans</td>\n",
       "      <td>30</td>\n",
       "    </tr>\n",
       "    <tr>\n",
       "      <td>DSMZ_1118</td>\n",
       "      <td>Bacillus halodurans</td>\n",
       "      <td>30</td>\n",
       "    </tr>\n",
       "    <tr>\n",
       "      <td>DSMZ_1119</td>\n",
       "      <td>Bacillus halodurans</td>\n",
       "      <td>30</td>\n",
       "    </tr>\n",
       "    <tr>\n",
       "      <td>DSMZ_1116</td>\n",
       "      <td>Bacillus halodurans</td>\n",
       "      <td>30</td>\n",
       "    </tr>\n",
       "  </tbody>\n",
       "</table>\n",
       "</div>"
      ],
      "text/plain": [
       "                       Species  Opt. Culture Temp. $C^{o}$\n",
       "DSMZ_1117  Bacillus halodurans                          30\n",
       "DSMZ_1114  Bacillus halodurans                          30\n",
       "DSMZ_1118  Bacillus halodurans                          30\n",
       "DSMZ_1119  Bacillus halodurans                          30\n",
       "DSMZ_1116  Bacillus halodurans                          30"
      ]
     },
     "execution_count": 103,
     "metadata": {},
     "output_type": "execute_result"
    }
   ],
   "source": [
    "# Species level taxonomy\n",
    "gtax = pd.DataFrame(dict(species_search_data.loc['taxonomy_name','strains','species']))\n",
    "#temp\n",
    "temps = species_search_data.loc[[('taxonomy_name','strains','species'),\n",
    "                                 ('culture_growth_condition','culture_temp','temp')],:]\n",
    "temps = temps.reset_index(drop=True).T.dropna()\n",
    "temps = temps.apply(lambda s: list(itertools.chain(*s.values)), axis=0)\n",
    "temps.columns = ['Species','Opt. Culture Temp. $C^{o}$']\n",
    "temps.head(5)\n"
   ]
  },
  {
   "cell_type": "code",
   "execution_count": 104,
   "metadata": {},
   "outputs": [
    {
     "data": {
      "image/png": "[encoded data removed]",
      "text/plain": [
       "<Figure size 720x288 with 1 Axes>"
      ]
     },
     "metadata": {
      "needs_background": "light"
     },
     "output_type": "display_data"
    }
   ],
   "source": [
    "plt.rcParams[\"axes.titlesize\"] = 40\n",
    "plt.rcParams[\"axes.labelsize\"] = 18\n",
    "plt.rcParams['xtick.labelsize'] = 16\n",
    "plt.rcParams['ytick.labelsize'] = 16\n",
    "\n",
    "#now we can plot the data\n",
    "fig,ax=plt.subplots(1,1,figsize=(10,4))\n",
    "sns.boxplot(y='Opt. Culture Temp. $C^{o}$',x='Species',data=temps,ax=ax)\n",
    "sns.swarmplot(y='Opt. Culture Temp. $C^{o}$',x='Species',data=temps,ax=ax)\n",
    "plt.show()"
   ]
  }
 ],
 "metadata": {
  "kernelspec": {
   "display_name": "Python 3",
   "language": "python",
   "name": "python3"
  }
 },
 "nbformat": 4,
 "nbformat_minor": 2
}
