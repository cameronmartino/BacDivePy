{
 "cells": [
  {
   "cell_type": "code",
   "execution_count": 1,
   "metadata": {},
   "outputs": [],
   "source": [
    "#BacDivePy\n",
    "from  bacdive.DSMZClient import DSMZ_login\n",
    "from  bacdive.DSMZClient import retrieve\n",
    "\n",
    "#utils\n",
    "import pandas as pd\n",
    "import numpy as np\n",
    "\n",
    "#plot style\n",
    "import matplotlib.pyplot as plt\n",
    "import seaborn as sns\n",
    "plt.style.use('ggplot')\n",
    "\n",
    "#test style\n",
    "from IPython.core.display import HTML\n",
    "HTML(\"\"\"<style>div.cell { /* Tunes the space between cells */margin-top:1em;margin-bottom:1em;}div.text_cell_render h1 { /* Main titles bigger, centered */\n",
    "font-size: 3em;line-height:1.4em;text-align:center;}\n",
    "div.text_cell_render h2 { /*  Parts names nearer from text */margin-bottom: -0.4em;}\n",
    "div.text_cell_render { /* Customize text cells */font-family: 'Times New Roman';font-size:1.2em;line-height:1.4em;\n",
    "padding-left:3em;padding-right:3em;}</style>\"\"\")\n",
    "%matplotlib inline"
   ]
  },
  {
   "cell_type": "markdown",
   "metadata": {},
   "source": [
    "\n",
    "This python package is an interface for the [Bacterial\n",
    "Diversity Metadatabase][BD] ([Söhngen et al. 2014 & 2016\n",
    "](#references)) of the [DSMZ (German Collection of Microorganisms and Cell Cultures)][DMSZ].\n",
    "\n",
    "[BD]: https://bacdive.dsmz.de/\n",
    "[DMSZ]: https://www.dsmz.de/about-us.html\n"
   ]
  },
  {
   "cell_type": "markdown",
   "metadata": {},
   "source": [
    "### Set Login\n",
    "\n",
    "To login you must be [registered][reg] for the BacDive API. Once you have your login credentials you may use them below. \n",
    "\n",
    "\n",
    "[reg]: https://bacdive.dsmz.de/api/bacdive/registration/register/"
   ]
  },
  {
   "cell_type": "code",
   "execution_count": null,
   "metadata": {},
   "outputs": [],
   "source": [
    "DSMZ_login('username@email.com')"
   ]
  },
  {
   "cell_type": "markdown",
   "metadata": {},
   "source": [
    "## There are four methods to search the BacDive Database"
   ]
  },
  {
   "cell_type": "markdown",
   "metadata": {},
   "source": [
    "### Species Level Search"
   ]
  },
  {
   "cell_type": "code",
   "execution_count": 3,
   "metadata": {},
   "outputs": [
    {
     "name": "stdout",
     "output_type": "stream",
     "text": [
      "Retrieving information on: Bacillus halodurans\n"
     ]
    },
    {
     "name": "stderr",
     "output_type": "stream",
     "text": [
      "100%|██████████| 18/18 [00:15<00:00,  1.14it/s]\n"
     ]
    },
    {
     "name": "stdout",
     "output_type": "stream",
     "text": [
      "Retrieving information on: Aneurinibacillus thermoaerophilus\n"
     ]
    },
    {
     "name": "stderr",
     "output_type": "stream",
     "text": [
      "100%|██████████| 15/15 [00:13<00:00,  1.12it/s]\n"
     ]
    }
   ],
   "source": [
    "species_search_data=retrieve(['Bacillus halodurans','Aneurinibacillus thermoaerophilus'],search_type='species')"
   ]
  },
  {
   "cell_type": "markdown",
   "metadata": {},
   "source": [
    "### Genus Level Search"
   ]
  },
  {
   "cell_type": "code",
   "execution_count": 4,
   "metadata": {},
   "outputs": [
    {
     "name": "stdout",
     "output_type": "stream",
     "text": [
      "Retrieving information on: Acaricomes\n"
     ]
    },
    {
     "name": "stderr",
     "output_type": "stream",
     "text": [
      "100%|██████████| 1/1 [00:01<00:00,  1.24s/it]\n"
     ]
    },
    {
     "name": "stdout",
     "output_type": "stream",
     "text": [
      "Retrieving information on: Thermus\n"
     ]
    },
    {
     "name": "stderr",
     "output_type": "stream",
     "text": [
      "100%|██████████| 32/32 [00:29<00:00,  1.08it/s]\n"
     ]
    }
   ],
   "source": [
    "genus_search_data=retrieve(['Acaricomes','Thermus'],search_type='genus')"
   ]
  },
  {
   "cell_type": "markdown",
   "metadata": {},
   "source": [
    "### DSMZ Culture Number Search"
   ]
  },
  {
   "cell_type": "code",
   "execution_count": 5,
   "metadata": {},
   "outputs": [
    {
     "name": "stdout",
     "output_type": "stream",
     "text": [
      "Retrieving information on: DSM 1\n"
     ]
    },
    {
     "name": "stderr",
     "output_type": "stream",
     "text": [
      "100%|██████████| 1/1 [00:02<00:00,  2.01s/it]\n"
     ]
    },
    {
     "name": "stdout",
     "output_type": "stream",
     "text": [
      "Retrieving information on: DSM 2\n"
     ]
    },
    {
     "name": "stderr",
     "output_type": "stream",
     "text": [
      "100%|██████████| 1/1 [00:00<00:00,  1.07it/s]\n"
     ]
    }
   ],
   "source": [
    "DSMZnum_search_data=retrieve(['DSM 1','DSM 2'],search_type='bacdive id')"
   ]
  },
  {
   "cell_type": "markdown",
   "metadata": {},
   "source": [
    "### Sequence Accession Number Search"
   ]
  },
  {
   "cell_type": "code",
   "execution_count": 6,
   "metadata": {},
   "outputs": [
    {
     "name": "stdout",
     "output_type": "stream",
     "text": [
      "Retrieving information on: KT935587\n"
     ]
    },
    {
     "name": "stderr",
     "output_type": "stream",
     "text": [
      "100%|██████████| 1/1 [00:00<00:00,  1.19it/s]\n"
     ]
    },
    {
     "name": "stdout",
     "output_type": "stream",
     "text": [
      "Retrieving information on: ALAS01000001\n"
     ]
    },
    {
     "name": "stderr",
     "output_type": "stream",
     "text": [
      "100%|██████████| 1/1 [00:01<00:00,  1.97s/it]\n"
     ]
    }
   ],
   "source": [
    "Acc_search_data=retrieve(['KT935587','ALAS01000001'],search_type='sequence accession number')"
   ]
  },
  {
   "cell_type": "markdown",
   "metadata": {},
   "source": [
    "## Data format\n",
    "\n",
    "All searches output a multilevel indexed pandas dataframe with the DSMZ culture IDs associated with the search in the columns. The levels of the index are the:\n",
    "\n",
    "Sections ( there are 8 sections ) \n",
    "- application_interaction\n",
    "- culture_growth_condition\n",
    "- environment_sampling_isolation_source\n",
    "- molecular_biology\n",
    "- morphology_physiology\n",
    "- references\n",
    "- strain_availability\n",
    "- taxonomy_name\n",
    "\n",
    "Within those subsection there are several subsections and within those subsections there are various fields. \n",
    "\n",
    "To view the subsections:\n",
    "- set(df.index.get_level_values('Subsection'))\n",
    "\n",
    "To view the Fields:\n",
    "- set(df.index.get_level_values('Field'))\n",
    "\n",
    "If a certain field needs to be indexed it can be done by calling:\n",
    "\n",
    "- df.loc([Section_value,Subsection_value,Field_value])\n"
   ]
  },
  {
   "cell_type": "markdown",
   "metadata": {},
   "source": [
    "Aa an example of how to use this data we can view culture temps at the genus level from what we ran above."
   ]
  },
  {
   "cell_type": "code",
   "execution_count": 7,
   "metadata": {},
   "outputs": [
    {
     "data": {
      "text/html": [
       "<div>\n",
       "<style scoped>\n",
       "    .dataframe tbody tr th:only-of-type {\n",
       "        vertical-align: middle;\n",
       "    }\n",
       "\n",
       "    .dataframe tbody tr th {\n",
       "        vertical-align: top;\n",
       "    }\n",
       "\n",
       "    .dataframe thead th {\n",
       "        text-align: right;\n",
       "    }\n",
       "</style>\n",
       "<table border=\"1\" class=\"dataframe\">\n",
       "  <thead>\n",
       "    <tr style=\"text-align: right;\">\n",
       "      <th></th>\n",
       "      <th></th>\n",
       "      <th></th>\n",
       "      <th>DSMZ_7517</th>\n",
       "      <th>DSMZ_16719</th>\n",
       "      <th>DSMZ_16715</th>\n",
       "      <th>DSMZ_132856</th>\n",
       "      <th>DSMZ_16722</th>\n",
       "      <th>DSMZ_16718</th>\n",
       "      <th>DSMZ_16720</th>\n",
       "      <th>DSMZ_133484</th>\n",
       "      <th>DSMZ_16729</th>\n",
       "      <th>DSMZ_16717</th>\n",
       "      <th>...</th>\n",
       "      <th>DSMZ_132829</th>\n",
       "      <th>DSMZ_131568</th>\n",
       "      <th>DSMZ_16731</th>\n",
       "      <th>DSMZ_100091</th>\n",
       "      <th>DSMZ_16716</th>\n",
       "      <th>DSMZ_16728</th>\n",
       "      <th>DSMZ_16730</th>\n",
       "      <th>DSMZ_16721</th>\n",
       "      <th>DSMZ_16723</th>\n",
       "      <th>DSMZ_16714</th>\n",
       "    </tr>\n",
       "    <tr>\n",
       "      <th>Section</th>\n",
       "      <th>Subsection</th>\n",
       "      <th>Field</th>\n",
       "      <th></th>\n",
       "      <th></th>\n",
       "      <th></th>\n",
       "      <th></th>\n",
       "      <th></th>\n",
       "      <th></th>\n",
       "      <th></th>\n",
       "      <th></th>\n",
       "      <th></th>\n",
       "      <th></th>\n",
       "      <th></th>\n",
       "      <th></th>\n",
       "      <th></th>\n",
       "      <th></th>\n",
       "      <th></th>\n",
       "      <th></th>\n",
       "      <th></th>\n",
       "      <th></th>\n",
       "      <th></th>\n",
       "      <th></th>\n",
       "      <th></th>\n",
       "    </tr>\n",
       "  </thead>\n",
       "  <tbody>\n",
       "    <tr>\n",
       "      <th rowspan=\"5\" valign=\"top\">application_interaction</th>\n",
       "      <th rowspan=\"5\" valign=\"top\">risk_assessment</th>\n",
       "      <th>ID_reference</th>\n",
       "      <td>[5270]</td>\n",
       "      <td>[2956]</td>\n",
       "      <td>NaN</td>\n",
       "      <td>[24644]</td>\n",
       "      <td>[12529]</td>\n",
       "      <td>[355]</td>\n",
       "      <td>[3525]</td>\n",
       "      <td>NaN</td>\n",
       "      <td>[4729]</td>\n",
       "      <td>[297]</td>\n",
       "      <td>...</td>\n",
       "      <td>NaN</td>\n",
       "      <td>NaN</td>\n",
       "      <td>NaN</td>\n",
       "      <td>NaN</td>\n",
       "      <td>NaN</td>\n",
       "      <td>[4728]</td>\n",
       "      <td>[4730]</td>\n",
       "      <td>[3526]</td>\n",
       "      <td>[1682]</td>\n",
       "      <td>[328]</td>\n",
       "    </tr>\n",
       "    <tr>\n",
       "      <th>biosafety_level</th>\n",
       "      <td>[1]</td>\n",
       "      <td>[1]</td>\n",
       "      <td>NaN</td>\n",
       "      <td>[1]</td>\n",
       "      <td>[1]</td>\n",
       "      <td>[1]</td>\n",
       "      <td>[1]</td>\n",
       "      <td>NaN</td>\n",
       "      <td>[1]</td>\n",
       "      <td>[1]</td>\n",
       "      <td>...</td>\n",
       "      <td>NaN</td>\n",
       "      <td>NaN</td>\n",
       "      <td>NaN</td>\n",
       "      <td>NaN</td>\n",
       "      <td>NaN</td>\n",
       "      <td>[1]</td>\n",
       "      <td>[1]</td>\n",
       "      <td>[1]</td>\n",
       "      <td>[1]</td>\n",
       "      <td>[1]</td>\n",
       "    </tr>\n",
       "    <tr>\n",
       "      <th>biosafety_level_comment</th>\n",
       "      <td>[Risk group (German classification)]</td>\n",
       "      <td>[Risk group (German classification)]</td>\n",
       "      <td>NaN</td>\n",
       "      <td>[Risk group (German classification)]</td>\n",
       "      <td>[Risk group (German classification)]</td>\n",
       "      <td>[Risk group (German classification)]</td>\n",
       "      <td>[Risk group (German classification)]</td>\n",
       "      <td>NaN</td>\n",
       "      <td>[Risk group (German classification)]</td>\n",
       "      <td>[Risk group (German classification)]</td>\n",
       "      <td>...</td>\n",
       "      <td>NaN</td>\n",
       "      <td>NaN</td>\n",
       "      <td>NaN</td>\n",
       "      <td>NaN</td>\n",
       "      <td>NaN</td>\n",
       "      <td>[Risk group (German classification)]</td>\n",
       "      <td>[Risk group (German classification)]</td>\n",
       "      <td>[Risk group (German classification)]</td>\n",
       "      <td>[Risk group (German classification)]</td>\n",
       "      <td>[Risk group (German classification)]</td>\n",
       "    </tr>\n",
       "    <tr>\n",
       "      <th>pathogenicity_animal</th>\n",
       "      <td>[True]</td>\n",
       "      <td>NaN</td>\n",
       "      <td>NaN</td>\n",
       "      <td>NaN</td>\n",
       "      <td>NaN</td>\n",
       "      <td>NaN</td>\n",
       "      <td>NaN</td>\n",
       "      <td>NaN</td>\n",
       "      <td>NaN</td>\n",
       "      <td>NaN</td>\n",
       "      <td>...</td>\n",
       "      <td>NaN</td>\n",
       "      <td>NaN</td>\n",
       "      <td>NaN</td>\n",
       "      <td>NaN</td>\n",
       "      <td>NaN</td>\n",
       "      <td>NaN</td>\n",
       "      <td>NaN</td>\n",
       "      <td>NaN</td>\n",
       "      <td>NaN</td>\n",
       "      <td>NaN</td>\n",
       "    </tr>\n",
       "    <tr>\n",
       "      <th>pathogenicity_human</th>\n",
       "      <td>NaN</td>\n",
       "      <td>NaN</td>\n",
       "      <td>NaN</td>\n",
       "      <td>NaN</td>\n",
       "      <td>NaN</td>\n",
       "      <td>NaN</td>\n",
       "      <td>NaN</td>\n",
       "      <td>NaN</td>\n",
       "      <td>NaN</td>\n",
       "      <td>NaN</td>\n",
       "      <td>...</td>\n",
       "      <td>NaN</td>\n",
       "      <td>NaN</td>\n",
       "      <td>NaN</td>\n",
       "      <td>NaN</td>\n",
       "      <td>NaN</td>\n",
       "      <td>NaN</td>\n",
       "      <td>NaN</td>\n",
       "      <td>NaN</td>\n",
       "      <td>NaN</td>\n",
       "      <td>NaN</td>\n",
       "    </tr>\n",
       "  </tbody>\n",
       "</table>\n",
       "<p>5 rows × 33 columns</p>\n",
       "</div>"
      ],
      "text/plain": [
       "                                                                                            DSMZ_7517  \\\n",
       "Section                 Subsection      Field                                                           \n",
       "application_interaction risk_assessment ID_reference                                           [5270]   \n",
       "                                        biosafety_level                                           [1]   \n",
       "                                        biosafety_level_comment  [Risk group (German classification)]   \n",
       "                                        pathogenicity_animal                                   [True]   \n",
       "                                        pathogenicity_human                                       NaN   \n",
       "\n",
       "                                                                                           DSMZ_16719  \\\n",
       "Section                 Subsection      Field                                                           \n",
       "application_interaction risk_assessment ID_reference                                           [2956]   \n",
       "                                        biosafety_level                                           [1]   \n",
       "                                        biosafety_level_comment  [Risk group (German classification)]   \n",
       "                                        pathogenicity_animal                                      NaN   \n",
       "                                        pathogenicity_human                                       NaN   \n",
       "\n",
       "                                                                DSMZ_16715  \\\n",
       "Section                 Subsection      Field                                \n",
       "application_interaction risk_assessment ID_reference                   NaN   \n",
       "                                        biosafety_level                NaN   \n",
       "                                        biosafety_level_comment        NaN   \n",
       "                                        pathogenicity_animal           NaN   \n",
       "                                        pathogenicity_human            NaN   \n",
       "\n",
       "                                                                                          DSMZ_132856  \\\n",
       "Section                 Subsection      Field                                                           \n",
       "application_interaction risk_assessment ID_reference                                          [24644]   \n",
       "                                        biosafety_level                                           [1]   \n",
       "                                        biosafety_level_comment  [Risk group (German classification)]   \n",
       "                                        pathogenicity_animal                                      NaN   \n",
       "                                        pathogenicity_human                                       NaN   \n",
       "\n",
       "                                                                                           DSMZ_16722  \\\n",
       "Section                 Subsection      Field                                                           \n",
       "application_interaction risk_assessment ID_reference                                          [12529]   \n",
       "                                        biosafety_level                                           [1]   \n",
       "                                        biosafety_level_comment  [Risk group (German classification)]   \n",
       "                                        pathogenicity_animal                                      NaN   \n",
       "                                        pathogenicity_human                                       NaN   \n",
       "\n",
       "                                                                                           DSMZ_16718  \\\n",
       "Section                 Subsection      Field                                                           \n",
       "application_interaction risk_assessment ID_reference                                            [355]   \n",
       "                                        biosafety_level                                           [1]   \n",
       "                                        biosafety_level_comment  [Risk group (German classification)]   \n",
       "                                        pathogenicity_animal                                      NaN   \n",
       "                                        pathogenicity_human                                       NaN   \n",
       "\n",
       "                                                                                           DSMZ_16720  \\\n",
       "Section                 Subsection      Field                                                           \n",
       "application_interaction risk_assessment ID_reference                                           [3525]   \n",
       "                                        biosafety_level                                           [1]   \n",
       "                                        biosafety_level_comment  [Risk group (German classification)]   \n",
       "                                        pathogenicity_animal                                      NaN   \n",
       "                                        pathogenicity_human                                       NaN   \n",
       "\n",
       "                                                                DSMZ_133484  \\\n",
       "Section                 Subsection      Field                                 \n",
       "application_interaction risk_assessment ID_reference                    NaN   \n",
       "                                        biosafety_level                 NaN   \n",
       "                                        biosafety_level_comment         NaN   \n",
       "                                        pathogenicity_animal            NaN   \n",
       "                                        pathogenicity_human             NaN   \n",
       "\n",
       "                                                                                           DSMZ_16729  \\\n",
       "Section                 Subsection      Field                                                           \n",
       "application_interaction risk_assessment ID_reference                                           [4729]   \n",
       "                                        biosafety_level                                           [1]   \n",
       "                                        biosafety_level_comment  [Risk group (German classification)]   \n",
       "                                        pathogenicity_animal                                      NaN   \n",
       "                                        pathogenicity_human                                       NaN   \n",
       "\n",
       "                                                                                           DSMZ_16717  \\\n",
       "Section                 Subsection      Field                                                           \n",
       "application_interaction risk_assessment ID_reference                                            [297]   \n",
       "                                        biosafety_level                                           [1]   \n",
       "                                        biosafety_level_comment  [Risk group (German classification)]   \n",
       "                                        pathogenicity_animal                                      NaN   \n",
       "                                        pathogenicity_human                                       NaN   \n",
       "\n",
       "                                                                                 ...                   \\\n",
       "Section                 Subsection      Field                                    ...                    \n",
       "application_interaction risk_assessment ID_reference                             ...                    \n",
       "                                        biosafety_level                          ...                    \n",
       "                                        biosafety_level_comment                  ...                    \n",
       "                                        pathogenicity_animal                     ...                    \n",
       "                                        pathogenicity_human                      ...                    \n",
       "\n",
       "                                                                DSMZ_132829  \\\n",
       "Section                 Subsection      Field                                 \n",
       "application_interaction risk_assessment ID_reference                    NaN   \n",
       "                                        biosafety_level                 NaN   \n",
       "                                        biosafety_level_comment         NaN   \n",
       "                                        pathogenicity_animal            NaN   \n",
       "                                        pathogenicity_human             NaN   \n",
       "\n",
       "                                                                DSMZ_131568  \\\n",
       "Section                 Subsection      Field                                 \n",
       "application_interaction risk_assessment ID_reference                    NaN   \n",
       "                                        biosafety_level                 NaN   \n",
       "                                        biosafety_level_comment         NaN   \n",
       "                                        pathogenicity_animal            NaN   \n",
       "                                        pathogenicity_human             NaN   \n",
       "\n",
       "                                                                DSMZ_16731  \\\n",
       "Section                 Subsection      Field                                \n",
       "application_interaction risk_assessment ID_reference                   NaN   \n",
       "                                        biosafety_level                NaN   \n",
       "                                        biosafety_level_comment        NaN   \n",
       "                                        pathogenicity_animal           NaN   \n",
       "                                        pathogenicity_human            NaN   \n",
       "\n",
       "                                                                DSMZ_100091  \\\n",
       "Section                 Subsection      Field                                 \n",
       "application_interaction risk_assessment ID_reference                    NaN   \n",
       "                                        biosafety_level                 NaN   \n",
       "                                        biosafety_level_comment         NaN   \n",
       "                                        pathogenicity_animal            NaN   \n",
       "                                        pathogenicity_human             NaN   \n",
       "\n",
       "                                                                DSMZ_16716  \\\n",
       "Section                 Subsection      Field                                \n",
       "application_interaction risk_assessment ID_reference                   NaN   \n",
       "                                        biosafety_level                NaN   \n",
       "                                        biosafety_level_comment        NaN   \n",
       "                                        pathogenicity_animal           NaN   \n",
       "                                        pathogenicity_human            NaN   \n",
       "\n",
       "                                                                                           DSMZ_16728  \\\n",
       "Section                 Subsection      Field                                                           \n",
       "application_interaction risk_assessment ID_reference                                           [4728]   \n",
       "                                        biosafety_level                                           [1]   \n",
       "                                        biosafety_level_comment  [Risk group (German classification)]   \n",
       "                                        pathogenicity_animal                                      NaN   \n",
       "                                        pathogenicity_human                                       NaN   \n",
       "\n",
       "                                                                                           DSMZ_16730  \\\n",
       "Section                 Subsection      Field                                                           \n",
       "application_interaction risk_assessment ID_reference                                           [4730]   \n",
       "                                        biosafety_level                                           [1]   \n",
       "                                        biosafety_level_comment  [Risk group (German classification)]   \n",
       "                                        pathogenicity_animal                                      NaN   \n",
       "                                        pathogenicity_human                                       NaN   \n",
       "\n",
       "                                                                                           DSMZ_16721  \\\n",
       "Section                 Subsection      Field                                                           \n",
       "application_interaction risk_assessment ID_reference                                           [3526]   \n",
       "                                        biosafety_level                                           [1]   \n",
       "                                        biosafety_level_comment  [Risk group (German classification)]   \n",
       "                                        pathogenicity_animal                                      NaN   \n",
       "                                        pathogenicity_human                                       NaN   \n",
       "\n",
       "                                                                                           DSMZ_16723  \\\n",
       "Section                 Subsection      Field                                                           \n",
       "application_interaction risk_assessment ID_reference                                           [1682]   \n",
       "                                        biosafety_level                                           [1]   \n",
       "                                        biosafety_level_comment  [Risk group (German classification)]   \n",
       "                                        pathogenicity_animal                                      NaN   \n",
       "                                        pathogenicity_human                                       NaN   \n",
       "\n",
       "                                                                                           DSMZ_16714  \n",
       "Section                 Subsection      Field                                                          \n",
       "application_interaction risk_assessment ID_reference                                            [328]  \n",
       "                                        biosafety_level                                           [1]  \n",
       "                                        biosafety_level_comment  [Risk group (German classification)]  \n",
       "                                        pathogenicity_animal                                      NaN  \n",
       "                                        pathogenicity_human                                       NaN  \n",
       "\n",
       "[5 rows x 33 columns]"
      ]
     },
     "execution_count": 7,
     "metadata": {},
     "output_type": "execute_result"
    }
   ],
   "source": [
    "# retrieved from above\n",
    "genus_search_data.head()"
   ]
  },
  {
   "cell_type": "code",
   "execution_count": 8,
   "metadata": {},
   "outputs": [
    {
     "data": {
      "text/html": [
       "<div>\n",
       "<style scoped>\n",
       "    .dataframe tbody tr th:only-of-type {\n",
       "        vertical-align: middle;\n",
       "    }\n",
       "\n",
       "    .dataframe tbody tr th {\n",
       "        vertical-align: top;\n",
       "    }\n",
       "\n",
       "    .dataframe thead th {\n",
       "        text-align: right;\n",
       "    }\n",
       "</style>\n",
       "<table border=\"1\" class=\"dataframe\">\n",
       "  <thead>\n",
       "    <tr style=\"text-align: right;\">\n",
       "      <th></th>\n",
       "      <th>Culture Temp</th>\n",
       "      <th>Genus</th>\n",
       "    </tr>\n",
       "  </thead>\n",
       "  <tbody>\n",
       "    <tr>\n",
       "      <th>0</th>\n",
       "      <td>15</td>\n",
       "      <td>Acaricomes</td>\n",
       "    </tr>\n",
       "    <tr>\n",
       "      <th>1</th>\n",
       "      <td>16</td>\n",
       "      <td>Acaricomes</td>\n",
       "    </tr>\n",
       "    <tr>\n",
       "      <th>2</th>\n",
       "      <td>17</td>\n",
       "      <td>Acaricomes</td>\n",
       "    </tr>\n",
       "    <tr>\n",
       "      <th>3</th>\n",
       "      <td>18</td>\n",
       "      <td>Acaricomes</td>\n",
       "    </tr>\n",
       "    <tr>\n",
       "      <th>4</th>\n",
       "      <td>19</td>\n",
       "      <td>Acaricomes</td>\n",
       "    </tr>\n",
       "  </tbody>\n",
       "</table>\n",
       "</div>"
      ],
      "text/plain": [
       "   Culture Temp       Genus\n",
       "0            15  Acaricomes\n",
       "1            16  Acaricomes\n",
       "2            17  Acaricomes\n",
       "3            18  Acaricomes\n",
       "4            19  Acaricomes"
      ]
     },
     "execution_count": 8,
     "metadata": {},
     "output_type": "execute_result"
    }
   ],
   "source": [
    "#first we need to retrieve the data through indexing\n",
    "genus={x:y_ for x,y in genus_search_data.loc['taxonomy_name','strains','genus'].items() for y_ in y}\n",
    "culture_temp=genus_search_data.loc['culture_growth_condition','culture_temp','temp'].dropna()\n",
    "\n",
    "all_temps=pd.DataFrame([[temp,genus[DSMZ_no]] for temps,DSMZ_no in zip(culture_temp.values,culture_temp.index) \n",
    "           for temp in temps],columns=['Culture Temp','Genus'])\n",
    "\n",
    "all_temps.head()"
   ]
  },
  {
   "cell_type": "code",
   "execution_count": 9,
   "metadata": {},
   "outputs": [
    {
     "data": {
      "image/png": "[encoded data removed]",
      "text/plain": [
       "<matplotlib.figure.Figure at 0x1043f8358>"
      ]
     },
     "metadata": {},
     "output_type": "display_data"
    }
   ],
   "source": [
    "plt.rcParams[\"axes.titlesize\"] = 40\n",
    "plt.rcParams[\"axes.labelsize\"] = 18\n",
    "plt.rcParams['xtick.labelsize'] = 16\n",
    "plt.rcParams['ytick.labelsize'] = 16\n",
    "\n",
    "#now we can plot the data\n",
    "fig,ax=plt.subplots(1,1,figsize=(10,4))\n",
    "sns.violinplot(y='Culture Temp',x='Genus',data=all_temps,ax=ax)\n",
    "plt.show()"
   ]
  }
 ],
 "metadata": {
  "kernelspec": {
   "display_name": "Python 3",
   "language": "python",
   "name": "python3"
  },
  "language_info": {
   "codemirror_mode": {
    "name": "ipython",
    "version": 3
   },
   "file_extension": ".py",
   "mimetype": "text/x-python",
   "name": "python",
   "nbconvert_exporter": "python",
   "pygments_lexer": "ipython3",
   "version": "3.6.4"
  }
 },
 "nbformat": 4,
 "nbformat_minor": 2
}
